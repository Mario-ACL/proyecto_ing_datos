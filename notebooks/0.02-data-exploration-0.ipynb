{
 "cells": [
  {
   "cell_type": "markdown",
   "id": "373f212b",
   "metadata": {},
   "source": [
    "# New Exploratory Analysis (EDA)"
   ]
  },
  {
   "cell_type": "code",
   "execution_count": 1,
   "id": "e33f0d09",
   "metadata": {},
   "outputs": [],
   "source": [
    "import numpy as np\n",
    "import pandas as pd\n",
    "import matplotlib.pyplot as plt\n",
    "import seaborn as sns\n",
    "import os"
   ]
  },
  {
   "cell_type": "code",
   "execution_count": 2,
   "id": "8e4d44b1",
   "metadata": {},
   "outputs": [],
   "source": [
    "data_inegi = '../data/raw/inegi/conjunto_de_datos/'"
   ]
  },
  {
   "cell_type": "code",
   "execution_count": 1,
   "id": "3505124e",
   "metadata": {},
   "outputs": [
    {
     "name": "stdout",
     "output_type": "stream",
     "text": [
      "range(2018, 2024)\n"
     ]
    }
   ],
   "source": [
    "years = range(2018,2024)\n",
    "print(years)"
   ]
  },
  {
   "cell_type": "code",
   "execution_count": 10,
   "id": "3ff9e482",
   "metadata": {},
   "outputs": [
    {
     "name": "stdout",
     "output_type": "stream",
     "text": [
      "dict_keys(['df_2018', 'df_2019', 'df_2020', 'df_2021', 'df_2022', 'df_2023', 'df_2024'])\n"
     ]
    }
   ],
   "source": [
    "anio = [2018, 2019, 2020, 2021, 2022, 2023, 2024] # Change for np.arange(2018, 2025).tolist()\n",
    "dfs = {}\n",
    "for dirpath, dirnames, filenames in os.walk(data_inegi):\n",
    "    for file in filenames:\n",
    "        file_year = int(file.split('_')[2].split('.')[0])\n",
    "        if file_year in anio:\n",
    "            file_path = os.path.join(dirpath, file)\n",
    "            df_name = f'df_{file_year}'\n",
    "            dfs[df_name] = pd.read_csv(file_path, encoding='utf-8', index_col=False, low_memory=False)\n",
    "print(dfs.keys())"
   ]
  },
  {
   "cell_type": "code",
   "execution_count": 13,
   "id": "46b385b3",
   "metadata": {},
   "outputs": [
    {
     "name": "stdout",
     "output_type": "stream",
     "text": [
      "(2614848, 45)\n"
     ]
    },
    {
     "data": {
      "text/html": [
       "<div>\n",
       "<style scoped>\n",
       "    .dataframe tbody tr th:only-of-type {\n",
       "        vertical-align: middle;\n",
       "    }\n",
       "\n",
       "    .dataframe tbody tr th {\n",
       "        vertical-align: top;\n",
       "    }\n",
       "\n",
       "    .dataframe thead th {\n",
       "        text-align: right;\n",
       "    }\n",
       "</style>\n",
       "<table border=\"1\" class=\"dataframe\">\n",
       "  <thead>\n",
       "    <tr style=\"text-align: right;\">\n",
       "      <th></th>\n",
       "      <th>COBERTURA</th>\n",
       "      <th>ID_ENTIDAD</th>\n",
       "      <th>ID_MUNICIPIO</th>\n",
       "      <th>ANIO</th>\n",
       "      <th>MES</th>\n",
       "      <th>ID_HORA</th>\n",
       "      <th>ID_MINUTO</th>\n",
       "      <th>ID_DIA</th>\n",
       "      <th>DIASEMANA</th>\n",
       "      <th>URBANA</th>\n",
       "      <th>...</th>\n",
       "      <th>PEATMUERTO</th>\n",
       "      <th>PEATHERIDO</th>\n",
       "      <th>CICLMUERTO</th>\n",
       "      <th>CICLHERIDO</th>\n",
       "      <th>OTROMUERTO</th>\n",
       "      <th>OTROHERIDO</th>\n",
       "      <th>NEMUERTO</th>\n",
       "      <th>NEHERIDO</th>\n",
       "      <th>CLASACC</th>\n",
       "      <th>ESTATUS</th>\n",
       "    </tr>\n",
       "  </thead>\n",
       "  <tbody>\n",
       "    <tr>\n",
       "      <th>0</th>\n",
       "      <td>Municipal</td>\n",
       "      <td>1</td>\n",
       "      <td>1</td>\n",
       "      <td>2018</td>\n",
       "      <td>1</td>\n",
       "      <td>14</td>\n",
       "      <td>45</td>\n",
       "      <td>12</td>\n",
       "      <td>Viernes</td>\n",
       "      <td>Accidente en intersección</td>\n",
       "      <td>...</td>\n",
       "      <td>0</td>\n",
       "      <td>0</td>\n",
       "      <td>0</td>\n",
       "      <td>0</td>\n",
       "      <td>0</td>\n",
       "      <td>0</td>\n",
       "      <td>0</td>\n",
       "      <td>0</td>\n",
       "      <td>No fatal</td>\n",
       "      <td>Cifras Definitivas</td>\n",
       "    </tr>\n",
       "    <tr>\n",
       "      <th>1</th>\n",
       "      <td>Municipal</td>\n",
       "      <td>1</td>\n",
       "      <td>1</td>\n",
       "      <td>2018</td>\n",
       "      <td>1</td>\n",
       "      <td>14</td>\n",
       "      <td>20</td>\n",
       "      <td>12</td>\n",
       "      <td>Viernes</td>\n",
       "      <td>Accidente en intersección</td>\n",
       "      <td>...</td>\n",
       "      <td>0</td>\n",
       "      <td>0</td>\n",
       "      <td>0</td>\n",
       "      <td>0</td>\n",
       "      <td>0</td>\n",
       "      <td>0</td>\n",
       "      <td>0</td>\n",
       "      <td>0</td>\n",
       "      <td>Sólo daños</td>\n",
       "      <td>Cifras Definitivas</td>\n",
       "    </tr>\n",
       "    <tr>\n",
       "      <th>2</th>\n",
       "      <td>Municipal</td>\n",
       "      <td>1</td>\n",
       "      <td>1</td>\n",
       "      <td>2018</td>\n",
       "      <td>1</td>\n",
       "      <td>15</td>\n",
       "      <td>50</td>\n",
       "      <td>12</td>\n",
       "      <td>Viernes</td>\n",
       "      <td>Accidente en intersección</td>\n",
       "      <td>...</td>\n",
       "      <td>0</td>\n",
       "      <td>0</td>\n",
       "      <td>0</td>\n",
       "      <td>0</td>\n",
       "      <td>0</td>\n",
       "      <td>0</td>\n",
       "      <td>0</td>\n",
       "      <td>0</td>\n",
       "      <td>Sólo daños</td>\n",
       "      <td>Cifras Definitivas</td>\n",
       "    </tr>\n",
       "    <tr>\n",
       "      <th>3</th>\n",
       "      <td>Municipal</td>\n",
       "      <td>1</td>\n",
       "      <td>1</td>\n",
       "      <td>2018</td>\n",
       "      <td>1</td>\n",
       "      <td>20</td>\n",
       "      <td>15</td>\n",
       "      <td>12</td>\n",
       "      <td>Viernes</td>\n",
       "      <td>Accidente en intersección</td>\n",
       "      <td>...</td>\n",
       "      <td>0</td>\n",
       "      <td>0</td>\n",
       "      <td>0</td>\n",
       "      <td>0</td>\n",
       "      <td>0</td>\n",
       "      <td>0</td>\n",
       "      <td>0</td>\n",
       "      <td>0</td>\n",
       "      <td>Sólo daños</td>\n",
       "      <td>Cifras Definitivas</td>\n",
       "    </tr>\n",
       "    <tr>\n",
       "      <th>4</th>\n",
       "      <td>Municipal</td>\n",
       "      <td>1</td>\n",
       "      <td>1</td>\n",
       "      <td>2018</td>\n",
       "      <td>1</td>\n",
       "      <td>12</td>\n",
       "      <td>0</td>\n",
       "      <td>1</td>\n",
       "      <td>Lunes</td>\n",
       "      <td>Accidente en intersección</td>\n",
       "      <td>...</td>\n",
       "      <td>0</td>\n",
       "      <td>0</td>\n",
       "      <td>0</td>\n",
       "      <td>0</td>\n",
       "      <td>0</td>\n",
       "      <td>0</td>\n",
       "      <td>0</td>\n",
       "      <td>0</td>\n",
       "      <td>Sólo daños</td>\n",
       "      <td>Cifras Definitivas</td>\n",
       "    </tr>\n",
       "  </tbody>\n",
       "</table>\n",
       "<p>5 rows × 45 columns</p>\n",
       "</div>"
      ],
      "text/plain": [
       "   COBERTURA  ID_ENTIDAD  ID_MUNICIPIO  ANIO  MES  ID_HORA  ID_MINUTO  ID_DIA  \\\n",
       "0  Municipal           1             1  2018    1       14         45      12   \n",
       "1  Municipal           1             1  2018    1       14         20      12   \n",
       "2  Municipal           1             1  2018    1       15         50      12   \n",
       "3  Municipal           1             1  2018    1       20         15      12   \n",
       "4  Municipal           1             1  2018    1       12          0       1   \n",
       "\n",
       "  DIASEMANA                     URBANA  ... PEATMUERTO PEATHERIDO  CICLMUERTO  \\\n",
       "0   Viernes  Accidente en intersección  ...          0          0           0   \n",
       "1   Viernes  Accidente en intersección  ...          0          0           0   \n",
       "2   Viernes  Accidente en intersección  ...          0          0           0   \n",
       "3   Viernes  Accidente en intersección  ...          0          0           0   \n",
       "4     Lunes  Accidente en intersección  ...          0          0           0   \n",
       "\n",
       "   CICLHERIDO  OTROMUERTO  OTROHERIDO  NEMUERTO  NEHERIDO     CLASACC  \\\n",
       "0           0           0           0         0         0    No fatal   \n",
       "1           0           0           0         0         0  Sólo daños   \n",
       "2           0           0           0         0         0  Sólo daños   \n",
       "3           0           0           0         0         0  Sólo daños   \n",
       "4           0           0           0         0         0  Sólo daños   \n",
       "\n",
       "              ESTATUS  \n",
       "0  Cifras Definitivas  \n",
       "1  Cifras Definitivas  \n",
       "2  Cifras Definitivas  \n",
       "3  Cifras Definitivas  \n",
       "4  Cifras Definitivas  \n",
       "\n",
       "[5 rows x 45 columns]"
      ]
     },
     "metadata": {},
     "output_type": "display_data"
    }
   ],
   "source": [
    "df_inegi = pd.concat(dfs.values(), ignore_index=True)\n",
    "print(df_inegi.shape)\n",
    "display(df_inegi.head())"
   ]
  },
  {
   "cell_type": "code",
   "execution_count": 16,
   "id": "2ecc2a6d",
   "metadata": {},
   "outputs": [],
   "source": [
    "df_inegi.to_csv('../data/interim/inegi_atus_2018_2024.csv', index=False)"
   ]
  }
 ],
 "metadata": {
  "kernelspec": {
   "display_name": ".venv",
   "language": "python",
   "name": "python3"
  },
  "language_info": {
   "codemirror_mode": {
    "name": "ipython",
    "version": 3
   },
   "file_extension": ".py",
   "mimetype": "text/x-python",
   "name": "python",
   "nbconvert_exporter": "python",
   "pygments_lexer": "ipython3",
   "version": "3.13.8"
  }
 },
 "nbformat": 4,
 "nbformat_minor": 5
}
